{
 "cells": [
  {
   "cell_type": "markdown",
   "metadata": {
    "collapsed": true,
    "pycharm": {
     "name": "#%% md\n"
    }
   },
   "source": [
    "# Citation Network\n",
    "\n",
    "This notebook looks at visualising the network created in `citation_scrape.ipynb`"
   ]
  },
  {
   "cell_type": "markdown",
   "metadata": {
    "collapsed": false,
    "pycharm": {
     "name": "#%% md\n"
    }
   },
   "source": [
    "## Install"
   ]
  },
  {
   "cell_type": "code",
   "execution_count": null,
   "metadata": {
    "collapsed": false,
    "pycharm": {
     "name": "#%%\n"
    }
   },
   "outputs": [],
   "source": [
    "!pip install pandas\n",
    "!pip install pyvis"
   ]
  },
  {
   "cell_type": "markdown",
   "metadata": {
    "collapsed": false,
    "pycharm": {
     "name": "#%% md\n"
    }
   },
   "source": [
    "## Imports"
   ]
  },
  {
   "cell_type": "code",
   "execution_count": null,
   "metadata": {
    "collapsed": false,
    "pycharm": {
     "name": "#%%\n"
    }
   },
   "outputs": [],
   "source": [
    "import json\n",
    "import pandas as pd\n",
    "from pyvis.network import Network"
   ]
  },
  {
   "cell_type": "markdown",
   "metadata": {
    "collapsed": false,
    "pycharm": {
     "name": "#%% md\n"
    }
   },
   "source": [
    "## File Paths\n",
    "\n",
    "_\n",
    "_These will need to be updated to match their path on your local system. The relevant files can be found in the 'data' directory._\n",
    "\n",
    "_Default file paths are listed below_"
   ]
  },
  {
   "cell_type": "code",
   "execution_count": null,
   "metadata": {
    "collapsed": false,
    "pycharm": {
     "name": "#%%\n"
    }
   },
   "outputs": [],
   "source": [
    "CITATION_NETWORK_FILE_PATH = '../data/citation_network.csv'\n",
    "# This was populated as part of the 'citation_scrape' notebook\n",
    "\n",
    "LABEL_COLOUR_DICT_FILE_PATH = '../data/label_colours.json'\n",
    "\n",
    "\n",
    "GRAPH_FILE_PATH = '../data'\n",
    "# This is just a directory to store the location of the graph file that will be generated as part of this notebook"
   ]
  },
  {
   "cell_type": "markdown",
   "metadata": {
    "collapsed": false,
    "pycharm": {
     "name": "#%% md\n"
    }
   },
   "source": [
    "## Open files"
   ]
  },
  {
   "cell_type": "code",
   "execution_count": null,
   "metadata": {
    "collapsed": false,
    "pycharm": {
     "name": "#%%\n"
    }
   },
   "outputs": [],
   "source": [
    "citation_df = pd.read_csv(CITATION_NETWORK_FILE_PATH)\n",
    "\n",
    "with open(LABEL_COLOUR_DICT_FILE_PATH, 'r') as f:\n",
    "    label_colour_dict = json.load(f)"
   ]
  },
  {
   "cell_type": "markdown",
   "metadata": {
    "collapsed": false,
    "pycharm": {
     "name": "#%% md\n"
    }
   },
   "source": [
    "## Add nodes to graph"
   ]
  },
  {
   "cell_type": "code",
   "execution_count": null,
   "metadata": {
    "collapsed": false,
    "pycharm": {
     "name": "#%%\n"
    }
   },
   "outputs": [],
   "source": [
    "def add_citation_relation_network(data, network, root_ids, desired_relations, visible_nodes=None):\n",
    "    edge_data = set(zip(data['source'], data['target'], data['relation']))\n",
    "    for root in root_ids:\n",
    "      network.add_node(root, root, title=root, color='#9688F2', size=20) # Add the root node into the network\n",
    "\n",
    "    for edge in edge_data: # Loop for every edge in the data\n",
    "        # Get the source, target and relation between them\n",
    "        source = edge[0]\n",
    "        target = edge[1]\n",
    "        relation = edge[2]\n",
    "\n",
    "        hide_nodes = False\n",
    "        if visible_nodes is not None: # Check to see if we have a list of visible nodes\n",
    "            hide_nodes = True\n",
    "\n",
    "        if relation in desired_relations and (not hide_nodes or (source in visible_nodes and target in visible_nodes)): # If the relation is one we want to explore and if we have a list of visible nodes, make sure both nodes are visible\n",
    "            network.add_node(source,source, title=source, color='#60D7ED', size=20)\n",
    "            network.add_node(target,target, title=target, color='#60D7ED', size=20)\n",
    "            network.add_edge(source,target, color=label_colour_dict[relation])\n",
    "    print('Completed adding citation relations to network')\n",
    "    return network"
   ]
  },
  {
   "cell_type": "markdown",
   "metadata": {
    "collapsed": false,
    "pycharm": {
     "name": "#%% md\n"
    }
   },
   "source": [
    "## Find nodes to a level from the root(s)"
   ]
  },
  {
   "cell_type": "code",
   "execution_count": null,
   "metadata": {
    "collapsed": false,
    "pycharm": {
     "name": "#%%\n"
    }
   },
   "outputs": [],
   "source": [
    "def get_nodes_to_level(root_node, network, max_level=0):\n",
    "    # Create a set of all discovered nodes, add the root to the discovered\n",
    "    discovered_nodes = set()\n",
    "    for root in root_node:\n",
    "        discovered_nodes.add(root)\n",
    "\n",
    "    for _ in range(max_level + 1): # For each level until reaching max level\n",
    "        # Get all neighbours from the current discovered nodes\n",
    "        visited_nodes = set()\n",
    "        for seen_node in discovered_nodes:\n",
    "            for node in network.neighbors(seen_node):\n",
    "                visited_nodes.add(node)\n",
    "\n",
    "        # Add the newly visited nodes to the discovered nodes\n",
    "        for visited_node in visited_nodes:\n",
    "            discovered_nodes.add(visited_node)\n",
    "\n",
    "    return discovered_nodes"
   ]
  },
  {
   "cell_type": "markdown",
   "metadata": {
    "collapsed": false
   },
   "source": [
    "## Parameters\n",
    "\n",
    "_These can be changed to develop a different type of queried network_\n"
   ]
  },
  {
   "cell_type": "code",
   "execution_count": null,
   "metadata": {
    "collapsed": false,
    "pycharm": {
     "name": "#%%\n"
    }
   },
   "outputs": [],
   "source": [
    "ROOTS = ['ukpga_1984_55']\n",
    "# ['ukpga_1984_55']\n",
    "\n",
    "DESIRED_RELATIONS = ['repealed']\n",
    "# ['added', 'amended', 'applied', 'certain functions transferred', 'excluded', 'extended', 'functions transferred and modified', 'functions transferred', 'words inserted', 'inserted', 'modified', 'number repealed', 'omitted', 'powers transferred', 'repealed', 'substituted', 'wholly in force at']\n",
    "\n",
    "NODE_DISCOVERY_LEVEL = 0"
   ]
  },
  {
   "cell_type": "markdown",
   "metadata": {
    "collapsed": false
   },
   "source": [
    "## Create network\n",
    "\n",
    "Create the network of law based upon the loaded data. Once created then traverse the network to find discoverable nodes\n",
    "from the root(s)\n",
    "\n",
    "\n",
    "_This step often can take a long time as the **whole** network is being loaded. This could be improved by querying the\n",
    "dataframe instead of the creating and querying the network_"
   ]
  },
  {
   "cell_type": "code",
   "execution_count": null,
   "metadata": {
    "collapsed": false,
    "pycharm": {
     "name": "#%%\n"
    }
   },
   "outputs": [],
   "source": [
    "n = Network()\n",
    "n.force_atlas_2based()\n",
    "\n",
    "n = add_citation_relation_network(citation_df, n, ROOTS, DESIRED_RELATIONS)\n",
    "\n",
    "visible = get_nodes_to_level(ROOTS, n, NODE_DISCOVERY_LEVEL)\n",
    "print(f'Found {len(visible) - 1} nodes from the root')"
   ]
  },
  {
   "cell_type": "markdown",
   "metadata": {
    "collapsed": false,
    "pycharm": {
     "name": "#%% md\n"
    }
   },
   "source": [
    "## Create network, only showing visible nodes\n",
    "\n",
    "Using the list of discoverable nodes, recreate the network but this time only add the discoverable nodes into the\n",
    "network"
   ]
  },
  {
   "cell_type": "code",
   "execution_count": null,
   "metadata": {
    "collapsed": false,
    "pycharm": {
     "name": "#%%\n"
    }
   },
   "outputs": [],
   "source": [
    "n = Network(bgcolor='#222222', font_color='white', height='100%', width='100%')\n",
    "n.force_atlas_2based()\n",
    "\n",
    "n = add_citation_relation_network(citation_df, n, ROOTS, DESIRED_RELATIONS, visible)\n",
    "\n",
    "n.show(f'{GRAPH_FILE_PATH}/citation_relation_{\"_\".join(DESIRED_RELATIONS).replace(\" \", \"\")}_LEVEL_{NODE_DISCOVERY_LEVEL}_graph.html')"
   ]
  }
 ],
 "metadata": {
  "kernelspec": {
   "display_name": "Python 3.9.13 64-bit (windows store)",
   "language": "python",
   "name": "python3"
  },
  "language_info": {
   "codemirror_mode": {
    "name": "ipython",
    "version": 2
   },
   "file_extension": ".py",
   "mimetype": "text/x-python",
   "name": "python",
   "nbconvert_exporter": "python",
   "pygments_lexer": "ipython2",
   "version": "3.9.13"
  },
  "vscode": {
   "interpreter": {
    "hash": "6832110053056925ae86ab0953c551877665044c26fb9a06dd86ef7f3b9b0bfe"
   }
  }
 },
 "nbformat": 4,
 "nbformat_minor": 0
}
